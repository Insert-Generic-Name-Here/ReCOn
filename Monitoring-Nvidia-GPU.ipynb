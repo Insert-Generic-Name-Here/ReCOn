{
 "cells": [
  {
   "cell_type": "code",
   "execution_count": 164,
   "metadata": {},
   "outputs": [],
   "source": [
    "from __future__ import print_function\n",
    "\n",
    "import os\n",
    "import sys\n",
    "from subprocess import Popen, check_output\n",
    "from sys import stderr\n",
    "from time import sleep\n",
    "import io\n",
    "import matplotlib.pyplot as plt\n",
    "import pandas as pd\n",
    "import tempfile\n",
    "import subprocess\n",
    "import psutil"
   ]
  },
  {
   "cell_type": "code",
   "execution_count": 177,
   "metadata": {},
   "outputs": [],
   "source": [
    "def GetProcessAttributes(pids):\n",
    "    processAttributes = []\n",
    "    for pid in pids:\n",
    "        proc = psutil.Process(pid)\n",
    "        processAttributes.append({'pid':     pid,\n",
    "                                  'name':    proc.name(),\n",
    "                                  'exe':     proc.exe(),                  \n",
    "                                  'cmdline': proc.cmdline(),\n",
    "                                  'status':  proc.status()})\n",
    "    processAttributes = pd.DataFrame(processAttributes)\n",
    "    return processAttributes"
   ]
  },
  {
   "cell_type": "code",
   "execution_count": 182,
   "metadata": {},
   "outputs": [],
   "source": [
    "def MonitorNvidiaGPU():\n",
    "    'Function that monitors Running Processes on Nvidia GPU'\n",
    "    '''\n",
    "        Returns a DataFrame (pid, process_name, cmdline, used_gpu_memory, utilization)\n",
    "    '''\n",
    "    getGPUProcesses = 'nvidia-smi pmon -c 1 -s mu'\n",
    "    \n",
    "    proc = subprocess.Popen(getGPUProcesses, shell=True, stdout=subprocess.PIPE)\n",
    "    output = proc.stdout.read().decode('utf-8').split('\\n')\n",
    "    \n",
    "    # Remove the line describing the units of each feature\n",
    "    del output[1]\n",
    "    # convert to csv format...\n",
    "    output[0] = output[0].replace('# ', '')\n",
    "    output = [line.strip() for line in output]\n",
    "    output = [','.join(line.split()) for line in output]\n",
    "    # ...and drop the command feature (will be added later)...\n",
    "    output = [','.join(line.split(',')[:8]) for line in output]\n",
    "    # ...and convert to DataFrame\n",
    "    procsGPU = pd.read_csv(io.StringIO('\\n'.join(output)), header=0)\n",
    "    procsGPUFeats = GetProcessAttributes(procsGPU.pid.values)\n",
    "    \n",
    "    return procsGPU.merge(procsGPUFeats, on='pid', how='inner')"
   ]
  },
  {
   "cell_type": "code",
   "execution_count": 184,
   "metadata": {},
   "outputs": [
    {
     "name": "stdout",
     "output_type": "stream",
     "text": [
      "36.1 ms ± 2.11 ms per loop (mean ± std. dev. of 7 runs, 10 loops each)\n"
     ]
    }
   ],
   "source": [
    "%timeit MonitorNvidiaGPU()"
   ]
  },
  {
   "cell_type": "markdown",
   "metadata": {},
   "source": [
    "### Notes:\n",
    "### * Decide if we use the default Nvidia thread or our own (So Far: our own)"
   ]
  },
  {
   "cell_type": "code",
   "execution_count": 77,
   "metadata": {},
   "outputs": [
    {
     "data": {
      "text/plain": [
       "['# gpu        pid  type    fb    sm   mem   enc   dec   command',\n",
       " '# Idx          #   C/G    MB     %     %     %     %   name',\n",
       " '    0       1107     G   331     0     0     0     0   Xorg           ',\n",
       " '    0       3917     G   135     0     2     0     0   compiz         ',\n",
       " '    0       4479     G    60     0     1     0     0   chrome --type=g',\n",
       " '    0       6473     G   230     0     0     0     0   1.0.80.480 --la',\n",
       " '']"
      ]
     },
     "execution_count": 77,
     "metadata": {},
     "output_type": "execute_result"
    }
   ],
   "source": [
    "#!/usr/bin/python\n",
    "from subprocess import Popen, PIPE, STDOUT\n",
    "import pty\n",
    "import os\n",
    "\n",
    "cmd = 'nvidia-smi pmon -c 1 -s mu'\n",
    "\n",
    "proc = subprocess.Popen(cmd, shell=True, stdout=subprocess.PIPE)\n",
    "output = proc.stdout.read().decode('utf-8').split('\\n')\n",
    "output"
   ]
  }
 ],
 "metadata": {
  "kernelspec": {
   "display_name": "Python 3",
   "language": "python",
   "name": "python3"
  },
  "language_info": {
   "codemirror_mode": {
    "name": "ipython",
    "version": 3
   },
   "file_extension": ".py",
   "mimetype": "text/x-python",
   "name": "python",
   "nbconvert_exporter": "python",
   "pygments_lexer": "ipython3",
   "version": "3.6.4"
  },
  "varInspector": {
   "cols": {
    "lenName": 16,
    "lenType": 16,
    "lenVar": 40
   },
   "kernels_config": {
    "python": {
     "delete_cmd_postfix": "",
     "delete_cmd_prefix": "del ",
     "library": "var_list.py",
     "varRefreshCmd": "print(var_dic_list())"
    },
    "r": {
     "delete_cmd_postfix": ") ",
     "delete_cmd_prefix": "rm(",
     "library": "var_list.r",
     "varRefreshCmd": "cat(var_dic_list()) "
    }
   },
   "types_to_exclude": [
    "module",
    "function",
    "builtin_function_or_method",
    "instance",
    "_Feature"
   ],
   "window_display": false
  }
 },
 "nbformat": 4,
 "nbformat_minor": 2
}

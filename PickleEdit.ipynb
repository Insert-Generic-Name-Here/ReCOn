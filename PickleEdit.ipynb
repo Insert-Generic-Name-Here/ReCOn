{
 "cells": [
  {
   "cell_type": "code",
   "execution_count": 2,
   "metadata": {
    "ExecuteTime": {
     "end_time": "2018-07-27T12:53:38.201380Z",
     "start_time": "2018-07-27T12:53:38.197983Z"
    }
   },
   "outputs": [],
   "source": [
    "import pickle\n",
    "\n",
    "with open(\"config.pkl\", \"rb\") as fp:   # Unpickling\n",
    "    applist = pickle.load(fp)"
   ]
  },
  {
   "cell_type": "code",
   "execution_count": 17,
   "metadata": {
    "ExecuteTime": {
     "end_time": "2018-07-27T12:58:49.739334Z",
     "start_time": "2018-07-27T12:58:49.733656Z"
    }
   },
   "outputs": [
    {
     "data": {
      "text/plain": [
       "['/Applications/QGIS.app/Contents/MacOS/QGIS',\n",
       " '/Applications/Atom.app/Contents/MacOS/Atom']"
      ]
     },
     "execution_count": 17,
     "metadata": {},
     "output_type": "execute_result"
    }
   ],
   "source": [
    "applist"
   ]
  },
  {
   "cell_type": "code",
   "execution_count": 14,
   "metadata": {
    "ExecuteTime": {
     "end_time": "2018-07-27T12:58:15.538508Z",
     "start_time": "2018-07-27T12:58:15.440691Z"
    }
   },
   "outputs": [
    {
     "name": "stdout",
     "output_type": "stream",
     "text": [
      "['/Applications/Atom.app/Contents/MacOS/Atom']\n"
     ]
    }
   ],
   "source": [
    "import psutil , os, getpass\n",
    "\n",
    "for proc in psutil.process_iter():\n",
    "    if proc.pid == os.getpid(): continue\n",
    "    if proc.username() != getpass.getuser(): continue\n",
    "    if proc.name() ==  'Atom':\n",
    "        print (proc.as_dict()['cmdline'])\n",
    "           "
   ]
  },
  {
   "cell_type": "code",
   "execution_count": 16,
   "metadata": {
    "ExecuteTime": {
     "end_time": "2018-07-27T12:58:42.995008Z",
     "start_time": "2018-07-27T12:58:42.991814Z"
    }
   },
   "outputs": [],
   "source": [
    "applist.append('/Applications/Atom.app/Contents/MacOS/Atom')"
   ]
  },
  {
   "cell_type": "code",
   "execution_count": 18,
   "metadata": {
    "ExecuteTime": {
     "end_time": "2018-07-27T12:59:31.920004Z",
     "start_time": "2018-07-27T12:59:31.913578Z"
    }
   },
   "outputs": [],
   "source": [
    "with open(\"config.pkl\", \"wb\") as fp:   #Pickling\n",
    "    pickle.dump(applist, fp)"
   ]
  },
  {
   "cell_type": "code",
   "execution_count": null,
   "metadata": {},
   "outputs": [],
   "source": []
  }
 ],
 "metadata": {
  "kernelspec": {
   "display_name": "Python 3",
   "language": "python",
   "name": "python3"
  },
  "language_info": {
   "codemirror_mode": {
    "name": "ipython",
    "version": 3
   },
   "file_extension": ".py",
   "mimetype": "text/x-python",
   "name": "python",
   "nbconvert_exporter": "python",
   "pygments_lexer": "ipython3",
   "version": "3.6.5"
  },
  "toc": {
   "base_numbering": 1,
   "nav_menu": {},
   "number_sections": true,
   "sideBar": true,
   "skip_h1_title": false,
   "title_cell": "Table of Contents",
   "title_sidebar": "Contents",
   "toc_cell": false,
   "toc_position": {},
   "toc_section_display": true,
   "toc_window_display": false
  },
  "varInspector": {
   "cols": {
    "lenName": 16,
    "lenType": 16,
    "lenVar": 40
   },
   "kernels_config": {
    "python": {
     "delete_cmd_postfix": "",
     "delete_cmd_prefix": "del ",
     "library": "var_list.py",
     "varRefreshCmd": "print(var_dic_list())"
    },
    "r": {
     "delete_cmd_postfix": ") ",
     "delete_cmd_prefix": "rm(",
     "library": "var_list.r",
     "varRefreshCmd": "cat(var_dic_list()) "
    }
   },
   "types_to_exclude": [
    "module",
    "function",
    "builtin_function_or_method",
    "instance",
    "_Feature"
   ],
   "window_display": false
  }
 },
 "nbformat": 4,
 "nbformat_minor": 2
}

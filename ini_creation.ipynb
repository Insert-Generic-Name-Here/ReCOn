{
 "cells": [
  {
   "cell_type": "code",
   "execution_count": 8,
   "metadata": {
    "ExecuteTime": {
     "end_time": "2018-08-16T15:24:49.403613Z",
     "start_time": "2018-08-16T15:24:49.274299Z"
    }
   },
   "outputs": [],
   "source": [
    "import bash_commands\n",
    "import subprocess\n",
    "import configparser\n",
    "import sys, os, string, threading\n",
    "import paramiko\n"
   ]
  },
  {
   "cell_type": "code",
   "execution_count": 40,
   "metadata": {
    "ExecuteTime": {
     "end_time": "2018-08-12T19:08:13.198311Z",
     "start_time": "2018-08-12T19:08:13.194837Z"
    }
   },
   "outputs": [],
   "source": [
    "Config = configparser.ConfigParser()\n",
    "\n",
    "\n",
    "\n",
    "# add the settings to the structure of the file, and lets write it out..., '50')\n",
    "# Config.write(cfgfile)\n",
    "# cfgfile.close()"
   ]
  },
  {
   "cell_type": "code",
   "execution_count": 36,
   "metadata": {
    "ExecuteTime": {
     "end_time": "2018-08-12T19:00:44.408955Z",
     "start_time": "2018-08-12T19:00:17.333064Z"
    }
   },
   "outputs": [
    {
     "name": "stdout",
     "output_type": "stream",
     "text": [
      "Add servers -> Nickname Host Username Enable-Jupyter-Forwarding(y/n) / next server...)\n",
      " ex. pi 192.168.1.1 Josh y \n",
      "pi 192.168.1.1 Josh y / pi1 192.168.1.2 Joshy n \n"
     ]
    }
   ],
   "source": [
    "info = str(input('Add servers -> Nickname Host Username Enable-Jupyter-Forwarding(y/n) / next server...)\\n ex. pi 192.168.1.1 Josh y \\n'))"
   ]
  },
  {
   "cell_type": "code",
   "execution_count": 44,
   "metadata": {
    "ExecuteTime": {
     "end_time": "2018-08-12T19:09:09.292834Z",
     "start_time": "2018-08-12T19:09:09.288280Z"
    }
   },
   "outputs": [],
   "source": [
    "servers = info.split('/')\n",
    "for server in servers:\n",
    "    server = server.split()\n",
    "    Config[server[0]] = {'HOST': server[1],'UNAME': server[2],'JUPYTER': server[3]}\n"
   ]
  },
  {
   "cell_type": "code",
   "execution_count": 50,
   "metadata": {
    "ExecuteTime": {
     "end_time": "2018-08-12T19:21:17.668162Z",
     "start_time": "2018-08-12T19:21:17.663260Z"
    }
   },
   "outputs": [
    {
     "name": "stdout",
     "output_type": "stream",
     "text": [
      "i\n",
      "p\n",
      "192.168.1.1\n",
      "192.168.1.2\n"
     ]
    }
   ],
   "source": [
    "for sec in Config.sections():\n",
    "    print(Config[sec]['HOST'])"
   ]
  },
  {
   "cell_type": "code",
   "execution_count": 45,
   "metadata": {
    "ExecuteTime": {
     "end_time": "2018-08-12T19:09:12.249221Z",
     "start_time": "2018-08-12T19:09:12.245328Z"
    }
   },
   "outputs": [],
   "source": [
    "with open('servers.ini', 'w') as configfile:\n",
    "    Config.write(configfile)\n"
   ]
  },
  {
   "cell_type": "code",
   "execution_count": 3,
   "metadata": {
    "ExecuteTime": {
     "end_time": "2018-08-16T15:24:34.483196Z",
     "start_time": "2018-08-16T15:24:34.480050Z"
    }
   },
   "outputs": [],
   "source": [
    "def sda(cmd, *argss):\n",
    "    print (cmd, 'and', *argss)"
   ]
  },
  {
   "cell_type": "code",
   "execution_count": 4,
   "metadata": {
    "ExecuteTime": {
     "end_time": "2018-08-16T15:24:34.913167Z",
     "start_time": "2018-08-16T15:24:34.908825Z"
    }
   },
   "outputs": [
    {
     "name": "stdout",
     "output_type": "stream",
     "text": [
      "dsd and dasd dsad\n"
     ]
    }
   ],
   "source": [
    "sda('dsd', 'dasd', 'dsad')"
   ]
  },
  {
   "cell_type": "code",
   "execution_count": 24,
   "metadata": {
    "ExecuteTime": {
     "end_time": "2018-08-16T15:41:48.596460Z",
     "start_time": "2018-08-16T15:41:48.592034Z"
    }
   },
   "outputs": [],
   "source": [
    "def exec_all_servers(cmd, *args):\n",
    "    threads = []\n",
    "    servers = configparser.ConfigParser()\n",
    "    servers.read('/Users/giorgostheo/Code/RemoteCompProject/servers.ini')\n",
    "    for host in servers.sections():\n",
    "        ssh_connect(servers[host]['host'],servers[host]['uname'],cmd, *args)"
   ]
  },
  {
   "cell_type": "code",
   "execution_count": 25,
   "metadata": {
    "ExecuteTime": {
     "end_time": "2018-08-16T15:41:49.062057Z",
     "start_time": "2018-08-16T15:41:49.051665Z"
    }
   },
   "outputs": [],
   "source": [
    "def tst(name):    \n",
    "    return f'touch ~/Desktop/{name}.ilikeit'"
   ]
  },
  {
   "cell_type": "code",
   "execution_count": 27,
   "metadata": {
    "ExecuteTime": {
     "end_time": "2018-08-16T15:41:58.029860Z",
     "start_time": "2018-08-16T15:41:52.379617Z"
    }
   },
   "outputs": [
    {
     "name": "stdout",
     "output_type": "stream",
     "text": [
      "args are: nah\n",
      "args are: nah\n",
      "Server elma.local is unavailable.\n"
     ]
    }
   ],
   "source": [
    "exec_all_servers(tst, 'nah')"
   ]
  },
  {
   "cell_type": "code",
   "execution_count": 26,
   "metadata": {
    "ExecuteTime": {
     "end_time": "2018-08-16T15:41:50.572193Z",
     "start_time": "2018-08-16T15:41:50.568258Z"
    }
   },
   "outputs": [],
   "source": [
    "def ssh_connect(host, uname, cmd, *args):  \n",
    "    print ('args are:', *args)\n",
    "    ssh = paramiko.SSHClient()\n",
    "    ssh.set_missing_host_key_policy(paramiko.AutoAddPolicy())\n",
    "    try:\n",
    "        ssh.connect(host, username=uname)\n",
    "        stdin, stdout, stderr = ssh.exec_command(cmd(*args))\n",
    "        print ('success')\n",
    "    except:\n",
    "        print(f\"Server {host} is unavailable.\")"
   ]
  },
  {
   "cell_type": "code",
   "execution_count": null,
   "metadata": {},
   "outputs": [],
   "source": []
  }
 ],
 "metadata": {
  "kernelspec": {
   "display_name": "Python 3",
   "language": "python",
   "name": "python3"
  },
  "language_info": {
   "codemirror_mode": {
    "name": "ipython",
    "version": 3
   },
   "file_extension": ".py",
   "mimetype": "text/x-python",
   "name": "python",
   "nbconvert_exporter": "python",
   "pygments_lexer": "ipython3",
   "version": "3.6.5"
  },
  "toc": {
   "base_numbering": 1,
   "nav_menu": {},
   "number_sections": true,
   "sideBar": true,
   "skip_h1_title": false,
   "title_cell": "Table of Contents",
   "title_sidebar": "Contents",
   "toc_cell": false,
   "toc_position": {},
   "toc_section_display": true,
   "toc_window_display": false
  },
  "varInspector": {
   "cols": {
    "lenName": 16,
    "lenType": 16,
    "lenVar": 40
   },
   "kernels_config": {
    "python": {
     "delete_cmd_postfix": "",
     "delete_cmd_prefix": "del ",
     "library": "var_list.py",
     "varRefreshCmd": "print(var_dic_list())"
    },
    "r": {
     "delete_cmd_postfix": ") ",
     "delete_cmd_prefix": "rm(",
     "library": "var_list.r",
     "varRefreshCmd": "cat(var_dic_list()) "
    }
   },
   "types_to_exclude": [
    "module",
    "function",
    "builtin_function_or_method",
    "instance",
    "_Feature"
   ],
   "window_display": false
  }
 },
 "nbformat": 4,
 "nbformat_minor": 2
}

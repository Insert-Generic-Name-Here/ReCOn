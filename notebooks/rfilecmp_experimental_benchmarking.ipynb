{
 "cells": [
  {
   "cell_type": "code",
   "execution_count": 1,
   "metadata": {
    "ExecuteTime": {
     "end_time": "2018-09-18T11:09:12.882020Z",
     "start_time": "2018-09-18T11:09:12.876520Z"
    }
   },
   "outputs": [],
   "source": [
    "import os\n",
    "import stat\n",
    "from itertools import filterfalse\n",
    "import hashlib\n"
   ]
  },
  {
   "cell_type": "code",
   "execution_count": 2,
   "metadata": {
    "ExecuteTime": {
     "end_time": "2018-09-18T11:09:14.990062Z",
     "start_time": "2018-09-18T11:09:14.982508Z"
    }
   },
   "outputs": [],
   "source": [
    "def hash_value_for_file(f, hash_function, block_size=2**20):\n",
    "    while True:\n",
    "        # we use the read passing the size of the block to avoid\n",
    "        # heavy ram usage\n",
    "        data = f.read(block_size)\n",
    "        if not data:\n",
    "            # if we don't have any more data to read, stop.\n",
    "            break\n",
    "        # we partially calculate the hash\n",
    "        hash_function.update(data)\n",
    "    return hash_function.digest()"
   ]
  },
  {
   "cell_type": "code",
   "execution_count": 3,
   "metadata": {
    "ExecuteTime": {
     "end_time": "2018-09-18T11:10:04.084565Z",
     "start_time": "2018-09-18T11:10:04.071611Z"
    }
   },
   "outputs": [],
   "source": [
    "_cache = {}\n",
    "BUFSIZE = 8*1024\n",
    "\n",
    "\n",
    "def cmp(local_file, remote_file, shallow=True):\n",
    "    \"\"\"Compare two files.\n",
    "    Arguments:\n",
    "    local_file -- First file name\n",
    "    remote_file -- Second file name\n",
    "    sftp_client -- The Paramiko Object of the SFTP Connection to the Server\n",
    "    shallow -- Just check stat signature (do not read the files).\n",
    "               defaults to True.\n",
    "    Return value:\n",
    "    True if the files are the same, False otherwise.\n",
    "    This function uses a cache for past comparisons and the results,\n",
    "    with cache entries invalidated if their stat information\n",
    "    changes.  The cache may be cleared by calling clear_cache().\n",
    "    \"\"\"\n",
    "\n",
    "    s1 = _sig(os.stat(local_file))\n",
    "    s2 = _sig(os.stat(remote_file))\n",
    "    if s1[0] != stat.S_IFREG or s2[0] != stat.S_IFREG:\n",
    "        return False\n",
    "    if shallow and s1 == s2:\n",
    "        return True\n",
    "    if s1[1] != s2[1]:\n",
    "        return False\n",
    "\n",
    "    outcome = _cache.get((local_file, remote_file, s1, s2))\n",
    "    if outcome is None:\n",
    "        outcome = _do_cmp(local_file, remote_file)\n",
    "        if len(_cache) > 100:      # limit the maximum size of the cache\n",
    "            clear_cache()\n",
    "        _cache[local_file, remote_file, s1, s2] = outcome\n",
    "    return outcome\n",
    "\n",
    "\n",
    "def _sig(st):\n",
    "    return (stat.S_IFMT(st.st_mode),\n",
    "            st.st_size,\n",
    "            st.st_mtime)\n",
    "\n",
    "\n",
    "def _do_cmp(f1, f2):\n",
    "    bufsize = BUFSIZE\n",
    "    with open(f1, 'rb') as fp1, open(f2, 'rb') as fp2:\n",
    "        while True:\n",
    "            b1 = fp1.read(bufsize)\n",
    "            b2 = fp2.read(bufsize)\n",
    "            if b1 != b2:\n",
    "                return False\n",
    "            if not b1:\n",
    "                return True\n",
    "\n",
    "\n",
    "def clear_cache():\n",
    "    \"\"\"Clear the filecmp cache.\"\"\"\n",
    "    _cache.clear()"
   ]
  },
  {
   "cell_type": "code",
   "execution_count": 9,
   "metadata": {},
   "outputs": [],
   "source": [
    "def benchMD5():\n",
    "    with open('SSH_Connection.ipynb', 'rb') as input_file:\n",
    "        md5 = hashlib.md5()\n",
    "        hashA = hash_value_for_file(input_file, md5)\n",
    "    with open('SSH_Connection.ipynb', 'rb') as input_file:\n",
    "        md5 = hashlib.md5()\n",
    "        hashB = hash_value_for_file(input_file, md5)"
   ]
  },
  {
   "cell_type": "code",
   "execution_count": 11,
   "metadata": {
    "ExecuteTime": {
     "end_time": "2018-09-18T11:10:21.246010Z",
     "start_time": "2018-09-18T11:10:21.239845Z"
    }
   },
   "outputs": [],
   "source": [
    "def benchSHA1():\n",
    "    with open('SSH_Connection.ipynb', 'rb') as input_file:\n",
    "        sha1 = hashlib.sha1()\n",
    "        hashA = hash_value_for_file(input_file, sha1)\n",
    "    with open('SSH_Connection.ipynb', 'rb') as input_file:\n",
    "        sha1 = hashlib.sha1()\n",
    "        hashB = hash_value_for_file(input_file, sha1)"
   ]
  },
  {
   "cell_type": "code",
   "execution_count": 14,
   "metadata": {
    "ExecuteTime": {
     "end_time": "2018-09-18T11:11:26.235639Z",
     "start_time": "2018-09-18T11:11:26.225335Z"
    }
   },
   "outputs": [
    {
     "name": "stdout",
     "output_type": "stream",
     "text": [
      "105 µs ± 346 ns per loop (mean ± std. dev. of 7 runs, 100000 loops each)\n"
     ]
    }
   ],
   "source": [
    "%timeit -n 100000 benchMD5()"
   ]
  },
  {
   "cell_type": "code",
   "execution_count": 15,
   "metadata": {},
   "outputs": [
    {
     "name": "stdout",
     "output_type": "stream",
     "text": [
      "93.8 µs ± 308 ns per loop (mean ± std. dev. of 7 runs, 100000 loops each)\n"
     ]
    }
   ],
   "source": [
    "%timeit -n 100000 benchSHA1()"
   ]
  },
  {
   "cell_type": "code",
   "execution_count": 18,
   "metadata": {
    "ExecuteTime": {
     "end_time": "2018-09-18T11:11:10.324419Z",
     "start_time": "2018-09-18T11:11:10.318553Z"
    }
   },
   "outputs": [
    {
     "name": "stdout",
     "output_type": "stream",
     "text": [
      "3.2 µs ± 64.6 ns per loop (mean ± std. dev. of 7 runs, 100000 loops each)\n"
     ]
    }
   ],
   "source": [
    "%timeit -n 100000 cmp('SSH_Connection.ipynb', 'SSH_Connection.ipynb'); clear_cache()  "
   ]
  },
  {
   "cell_type": "code",
   "execution_count": 19,
   "metadata": {
    "ExecuteTime": {
     "end_time": "2018-09-18T11:11:10.324419Z",
     "start_time": "2018-09-18T11:11:10.318553Z"
    }
   },
   "outputs": [
    {
     "name": "stdout",
     "output_type": "stream",
     "text": [
      "25.7 µs ± 167 ns per loop (mean ± std. dev. of 7 runs, 100000 loops each)\n"
     ]
    }
   ],
   "source": [
    "%timeit -n 100000 cmp('SSH_Connection.ipynb', 'SSH_Connection.ipynb', shallow=False); clear_cache()  "
   ]
  }
 ],
 "metadata": {
  "kernelspec": {
   "display_name": "Python 3",
   "language": "python",
   "name": "python3"
  },
  "language_info": {
   "codemirror_mode": {
    "name": "ipython",
    "version": 3
   },
   "file_extension": ".py",
   "mimetype": "text/x-python",
   "name": "python",
   "nbconvert_exporter": "python",
   "pygments_lexer": "ipython3",
   "version": "3.6.6"
  },
  "varInspector": {
   "cols": {
    "lenName": 16,
    "lenType": 16,
    "lenVar": 40
   },
   "kernels_config": {
    "python": {
     "delete_cmd_postfix": "",
     "delete_cmd_prefix": "del ",
     "library": "var_list.py",
     "varRefreshCmd": "print(var_dic_list())"
    },
    "r": {
     "delete_cmd_postfix": ") ",
     "delete_cmd_prefix": "rm(",
     "library": "var_list.r",
     "varRefreshCmd": "cat(var_dic_list()) "
    }
   },
   "types_to_exclude": [
    "module",
    "function",
    "builtin_function_or_method",
    "instance",
    "_Feature"
   ],
   "window_display": false
  }
 },
 "nbformat": 4,
 "nbformat_minor": 2
}

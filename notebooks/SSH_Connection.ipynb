{
 "cells": [
  {
   "cell_type": "code",
   "execution_count": 1,
   "metadata": {},
   "outputs": [],
   "source": [
    "import paramiko\n",
    "from watchdog.observers import Observer\n",
    "from watchdog.events import PatternMatchingEventHandler\n",
    "\n",
    "import os\n",
    "import errno\n",
    "import configparser"
   ]
  },
  {
   "cell_type": "code",
   "execution_count": 2,
   "metadata": {},
   "outputs": [
    {
     "data": {
      "text/plain": [
       "['../utilities/ssh_config.ini']"
      ]
     },
     "execution_count": 2,
     "metadata": {},
     "output_type": "execute_result"
    }
   ],
   "source": [
    "config = configparser.ConfigParser()\n",
    "config.read(os.path.join('..', 'utilities', 'ssh_config.ini'))"
   ]
  },
  {
   "cell_type": "code",
   "execution_count": 4,
   "metadata": {},
   "outputs": [
    {
     "name": "stdout",
     "output_type": "stream",
     "text": [
      "Connecting...\n",
      "Connected.\n"
     ]
    }
   ],
   "source": [
    "rsa_key = paramiko.RSAKey.from_private_key_file(config['CONNECTION']['PKEY'])\n",
    "\n",
    "ssh_client = paramiko.SSHClient()\n",
    "ssh_client.set_missing_host_key_policy(paramiko.AutoAddPolicy())\n",
    "\n",
    "print ('Connecting...')\n",
    "ssh_client.connect(hostname=config['CONNECTION']['HOST'], \n",
    "                   username=config['CONNECTION']['USER'], \n",
    "                   port=config['CONNECTION']['PORT'],\n",
    "                   pkey=rsa_key)\n",
    "print ('Connected.')"
   ]
  },
  {
   "cell_type": "code",
   "execution_count": null,
   "metadata": {},
   "outputs": [],
   "source": [
    "sftp_client = ssh_client.open_sftp()"
   ]
  },
  {
   "cell_type": "code",
   "execution_count": 5,
   "metadata": {},
   "outputs": [],
   "source": [
    "ssh_client.close()"
   ]
  },
  {
   "cell_type": "code",
   "execution_count": null,
   "metadata": {},
   "outputs": [],
   "source": []
  },
  {
   "cell_type": "code",
   "execution_count": null,
   "metadata": {},
   "outputs": [],
   "source": []
  },
  {
   "cell_type": "code",
   "execution_count": null,
   "metadata": {},
   "outputs": [],
   "source": []
  },
  {
   "cell_type": "code",
   "execution_count": null,
   "metadata": {},
   "outputs": [],
   "source": [
    "class ServerWorkSync(PatternMatchingEventHandler):\n",
    "\n",
    "    def __init__(self, sftp_client, localpath, remotepath, patterns=None, ignore_patterns=None, ignore_directories=False, case_sensitive=False):   \n",
    "        super(ServerWorkSync, self).__init__(patterns, ignore_patterns, ignore_directories, case_sensitive)    \n",
    "        self.localpath = localpath\n",
    "        self.root = os.path.split(localpath)[1]\n",
    "        self.remotepath = remotepath\n",
    "        self.sftp_client = sftp_client\n",
    "        \n",
    "        self.__handshake()\n",
    "\n",
    "        \n",
    "    def __directory_exists(self, path):\n",
    "        'os.path.exists for paramiko SCP object'\n",
    "        try:\n",
    "            self.sftp_client.stat(path)\n",
    "        except IOError as e:\n",
    "            if e.errno == errno.ENOENT:\n",
    "                return False\n",
    "            raise\n",
    "        else:\n",
    "            return True\n",
    "\n",
    "        \n",
    "    def __cwd_scp(self, localpath, remotepath):\n",
    "        #  recursively upload a full directory\n",
    "        tmp = os.getcwd()\n",
    "        os.chdir(os.path.split(localpath)[0])\n",
    "\n",
    "        for walker in os.walk(self.root):\n",
    "            try:\n",
    "                self.sftp_client.mkdir(os.path.join(remotepath,walker[0]))\n",
    "            except:\n",
    "                pass\n",
    "            for file in walker[2]:\n",
    "                print (f'\\tCopying {os.path.join(walker[0],file)}...')\n",
    "                self.sftp_client.put(os.path.join(walker[0],file),os.path.join(remotepath,walker[0],file)) \n",
    "        os.chdir(tmp)\n",
    "    \n",
    "    \n",
    "    def __handshake(self):\n",
    "        direxists = self.__directory_exists(os.path.join(self.remotepath, os.path.split(self.localpath)[1]))\n",
    "        \n",
    "        if not direxists:\n",
    "            print (\"> Initiating Handshake. Transferring All Data to SSH Server...\")\n",
    "            self.__cwd_scp(self.localpath, self.remotepath)\n",
    "        else:\n",
    "            # TODO: Make handhake on existing directory.\n",
    "            # Steps:\n",
    "            #       1.   Compare Directories\n",
    "            #       2.1. Copy new Files\n",
    "            #       2.2. Replace old Files with newer ones\n",
    "            pass   \n",
    "        \n",
    "        \n",
    "    def on_moved(self, event):\n",
    "        super(ServerWorkSync, self).on_moved(event)\n",
    "\n",
    "        what = 'directory' if event.is_directory else 'file'\n",
    "        print(f'Moved {what}: from {event.src_path} to {event.dest_path}')\n",
    "        \n",
    "        try:\n",
    "            self.sftp_client.posix_rename(os.path.join(self.remotepath, self.root, ''.join(event.src_path.split(self.root, 1)[1:]).strip('/')), \n",
    "                                          os.path.join(self.remotepath, self.root, ''.join(event.dest_path.split(self.root, 1)[1:]).strip('/')))\n",
    "        except FileNotFoundError:\n",
    "            pass\n",
    "    \n",
    "    \n",
    "    def on_created(self, event):\n",
    "        super(ServerWorkSync, self).on_created(event)\n",
    "\n",
    "        what = 'directory' if event.is_directory else 'file'\n",
    "        print(f'Created {what}: {event.src_path}')\n",
    "        \n",
    "        try:\n",
    "            if event.is_directory:\n",
    "                self.sftp_client.mkdir(os.path.join(self.remotepath, self.root, ''.join(event.src_path.split(self.root, 1)[1:]).strip('/')))\n",
    "            else:\n",
    "                self.sftp_client.put(event.src_path,\n",
    "                                     os.path.join(self.remotepath, self.root, ''.join(event.src_path.split(self.root, 1)[1:]).strip('/')),\n",
    "                                     callback=None, confirm=True)\n",
    "        except FileNotFoundError:\n",
    "            pass\n",
    "\n",
    "        \n",
    "    def on_deleted(self, event):\n",
    "        super(ServerWorkSync, self).on_deleted(event)\n",
    "\n",
    "        what = 'directory' if event.is_directory else 'file'\n",
    "        print(f'Deleted {what}: {event.src_path}')\n",
    "        \n",
    "        try:\n",
    "            if event.is_directory:\n",
    "                self.sftp_client.rmdir(os.path.join(self.remotepath, self.root, ''.join(event.src_path.split(self.root, 1)[1:]).strip('/')))  \n",
    "            else:\n",
    "                self.sftp_client.remove(os.path.join(self.remotepath, self.root, ''.join(event.src_path.split(self.root, 1)[1:]).strip('/')))  \n",
    "        except FileNotFoundError:\n",
    "            pass\n",
    "        \n",
    "        \n",
    "    def on_modified(self, event):\n",
    "        super(ServerWorkSync, self).on_modified(event)\n",
    "        \n",
    "        what = 'directory' if event.is_directory else 'file'\n",
    "        print(f'Modified {what}: {event.src_path}')\n",
    "        \n",
    "        try:\n",
    "            if event.is_directory:\n",
    "                # NOTE: idk if this event is useful for directories, so i'll leave it for future use.\n",
    "                pass\n",
    "            else:\n",
    "                self.sftp_client.put(event.src_path,\n",
    "                                     os.path.join(self.remotepath, self.root, ''.join(event.src_path.split(self.root, 1)[1:]).strip('/')),\n",
    "                                     callback=None, confirm=True)\n",
    "        except FileNotFoundError:\n",
    "            pass"
   ]
  },
  {
   "cell_type": "code",
   "execution_count": null,
   "metadata": {},
   "outputs": [],
   "source": []
  },
  {
   "cell_type": "code",
   "execution_count": null,
   "metadata": {},
   "outputs": [],
   "source": []
  },
  {
   "cell_type": "code",
   "execution_count": null,
   "metadata": {},
   "outputs": [],
   "source": []
  },
  {
   "cell_type": "markdown",
   "metadata": {},
   "source": [
    "* ## &nbsp;&nbsp;&nbsp;&nbsp; if __name__ == '__main__':"
   ]
  },
  {
   "cell_type": "code",
   "execution_count": null,
   "metadata": {},
   "outputs": [],
   "source": [
    "import time"
   ]
  },
  {
   "cell_type": "code",
   "execution_count": null,
   "metadata": {},
   "outputs": [],
   "source": [
    "#### GET THE HOME DIRECTORY OF THE SSH SERVER\n",
    "stdin, stdout, stderr = ssh_client.exec_command(\"echo $HOME\")\n",
    "\n",
    "ssh_server_home_dir = stdout.readlines()[0].split('\\n')[0]\n",
    "ssh_server_home_dir"
   ]
  },
  {
   "cell_type": "code",
   "execution_count": null,
   "metadata": {},
   "outputs": [],
   "source": [
    "ssh_client_localpath = os.path.abspath(\".\")\n",
    "ssh_client_localpath"
   ]
  },
  {
   "cell_type": "code",
   "execution_count": null,
   "metadata": {},
   "outputs": [],
   "source": [
    "handler = ServerWorkSync(sftp_client, localpath = ssh_client_localpath, remotepath = ssh_server_home_dir)  \n",
    "observer = Observer()\n",
    "observer.schedule(handler, path = ssh_client_localpath, recursive = True)\n",
    "observer.start()\n",
    "\n",
    "try:\n",
    "    while True:\n",
    "        time.sleep(1)\n",
    "except KeyboardInterrupt:\n",
    "    observer.stop()\n",
    "finally:\n",
    "    observer.join()"
   ]
  },
  {
   "cell_type": "code",
   "execution_count": null,
   "metadata": {},
   "outputs": [],
   "source": []
  },
  {
   "cell_type": "code",
   "execution_count": null,
   "metadata": {},
   "outputs": [],
   "source": []
  },
  {
   "cell_type": "code",
   "execution_count": null,
   "metadata": {},
   "outputs": [],
   "source": []
  },
  {
   "cell_type": "code",
   "execution_count": null,
   "metadata": {},
   "outputs": [],
   "source": [
    "#### Here is how you can list all the directories.\n",
    "for i in sftp_client.listdir():\n",
    "    lstatout=str(sftp_client.lstat(i)).split()[0]\n",
    "    if 'd' in lstatout: \n",
    "        print (f'{i}, is a directory')"
   ]
  },
  {
   "cell_type": "code",
   "execution_count": null,
   "metadata": {},
   "outputs": [],
   "source": [
    "#### Files are the opposite search:\n",
    "for i in sftp_client.listdir():\n",
    "    lstatout=str(sftp_client.lstat(i)).split()[0]\n",
    "    if 'd' not in lstatout:\n",
    "        print (f'{i}, is a file')"
   ]
  }
 ],
 "metadata": {
  "kernelspec": {
   "display_name": "Python 3",
   "language": "python",
   "name": "python3"
  },
  "language_info": {
   "codemirror_mode": {
    "name": "ipython",
    "version": 3
   },
   "file_extension": ".py",
   "mimetype": "text/x-python",
   "name": "python",
   "nbconvert_exporter": "python",
   "pygments_lexer": "ipython3",
   "version": "3.6.4"
  },
  "varInspector": {
   "cols": {
    "lenName": 16,
    "lenType": 16,
    "lenVar": 40
   },
   "kernels_config": {
    "python": {
     "delete_cmd_postfix": "",
     "delete_cmd_prefix": "del ",
     "library": "var_list.py",
     "varRefreshCmd": "print(var_dic_list())"
    },
    "r": {
     "delete_cmd_postfix": ") ",
     "delete_cmd_prefix": "rm(",
     "library": "var_list.r",
     "varRefreshCmd": "cat(var_dic_list()) "
    }
   },
   "types_to_exclude": [
    "module",
    "function",
    "builtin_function_or_method",
    "instance",
    "_Feature"
   ],
   "window_display": false
  }
 },
 "nbformat": 4,
 "nbformat_minor": 2
}

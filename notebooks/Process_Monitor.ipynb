{
 "cells": [
  {
   "cell_type": "code",
   "execution_count": 11,
   "metadata": {},
   "outputs": [],
   "source": [
    "import pandas as pd\n",
    "import subprocess\n",
    "import os, io, getpass\n",
    "import psutil"
   ]
  },
  {
   "cell_type": "code",
   "execution_count": 8,
   "metadata": {},
   "outputs": [],
   "source": [
    "def __MonitorNvidiaGPU():\n",
    "    '''\n",
    "        Function that monitors Running Processes on Nvidia GPU\n",
    "        Returns a DataFrame (pid, process_name, cmdline, used_gpu_memory, utilization)\n",
    "    '''\n",
    "    getGPUProcesses = 'nvidia-smi pmon -c 1 -s mu'\n",
    "\n",
    "    proc = subprocess.Popen(getGPUProcesses, shell=True, stdout=subprocess.PIPE)\n",
    "    output = proc.stdout.read().decode('utf-8').split('\\n')\n",
    "\n",
    "    # Remove the line describing the units of each feature\n",
    "    del output[1]\n",
    "    # convert to csv format...\n",
    "    output[0] = output[0].replace('# ', '')\n",
    "    output = [line.strip() for line in output]\n",
    "    output = [','.join(line.split()) for line in output]\n",
    "    # ...and drop the command feature (will be added later)...\n",
    "    output = [','.join(line.split(',')[:8]) for line in output]\n",
    "    # ...and convert to DataFrame\n",
    "    procsGPU = pd.read_csv(io.StringIO('\\n'.join(output)), header=0)\n",
    "    # procsGPUFeats = self.__GetProcessAttributes(procsGPU.pid.values)\n",
    "\n",
    "\n",
    "\n",
    "    # return procsGPU.merge(procsGPUFeats, on='pid', how='inner')\n",
    "    return procsGPU"
   ]
  },
  {
   "cell_type": "code",
   "execution_count": 9,
   "metadata": {},
   "outputs": [],
   "source": [
    "def __MonitorCPU(mostImportant=10):\n",
    "    procs = []\n",
    "\n",
    "    for proc in psutil.process_iter():\n",
    "        if proc.pid == os.getpid(): continue \n",
    "        if proc.status() != 'running': continue \n",
    "        try:\n",
    "            if getpass.getuser() == proc.username():\n",
    "                procs.append({'pid':            proc.pid,\n",
    "                            'cpu_percent':    proc.cpu_percent(),\n",
    "                            'memory_percent': proc.memory_percent(),\n",
    "                            'name':           proc.name(),\n",
    "                            'exe':            proc.exe(),\n",
    "                            'status':         proc.status()\n",
    "                            })\n",
    "        except psutil.AccessDenied:\n",
    "            continue\n",
    "\n",
    "    process_log = pd.DataFrame(procs, columns=['pid', 'cpu_percent', 'memory_percent', 'name', 'exe', 'status'])\n",
    "\n",
    "    if not process_log.empty:\n",
    "        print ('Logging Data')\n",
    "        return process_log.sort_values(['memory_percent'], ascending=False)[:mostImportant]\n",
    "    else:\n",
    "        print ('Nothing to Log')\n",
    "        return process_log"
   ]
  },
  {
   "cell_type": "code",
   "execution_count": null,
   "metadata": {
    "scrolled": true
   },
   "outputs": [],
   "source": [
    "df1 = __MonitorNvidiaGPU()\n",
    "df1"
   ]
  },
  {
   "cell_type": "code",
   "execution_count": null,
   "metadata": {
    "scrolled": true
   },
   "outputs": [],
   "source": [
    "df2 = __MonitorCPU()\n",
    "df2"
   ]
  },
  {
   "cell_type": "code",
   "execution_count": null,
   "metadata": {
    "scrolled": false
   },
   "outputs": [],
   "source": [
    "df1.pid"
   ]
  },
  {
   "cell_type": "code",
   "execution_count": null,
   "metadata": {
    "scrolled": true
   },
   "outputs": [],
   "source": [
    "df2.pid"
   ]
  },
  {
   "cell_type": "code",
   "execution_count": null,
   "metadata": {
    "scrolled": false
   },
   "outputs": [],
   "source": [
    "df1.merge(df2, on='pid', how='inner')"
   ]
  },
  {
   "cell_type": "code",
   "execution_count": null,
   "metadata": {},
   "outputs": [],
   "source": []
  },
  {
   "cell_type": "code",
   "execution_count": null,
   "metadata": {},
   "outputs": [],
   "source": []
  },
  {
   "cell_type": "code",
   "execution_count": null,
   "metadata": {},
   "outputs": [],
   "source": [
    "import datetime"
   ]
  },
  {
   "cell_type": "code",
   "execution_count": null,
   "metadata": {},
   "outputs": [],
   "source": [
    "from time import gmtime, strftime, sleep\n",
    "while (True):\n",
    "    print(strftime(\"%Y-%m-%d %H:%M:%S\", gmtime()), end='\\r', flush=True)\n",
    "    time.sleep(1)"
   ]
  }
 ],
 "metadata": {
  "kernelspec": {
   "display_name": "Python 3",
   "language": "python",
   "name": "python3"
  },
  "language_info": {
   "codemirror_mode": {
    "name": "ipython",
    "version": 3
   },
   "file_extension": ".py",
   "mimetype": "text/x-python",
   "name": "python",
   "nbconvert_exporter": "python",
   "pygments_lexer": "ipython3",
   "version": "3.6.4"
  },
  "varInspector": {
   "cols": {
    "lenName": 16,
    "lenType": 16,
    "lenVar": 40
   },
   "kernels_config": {
    "python": {
     "delete_cmd_postfix": "",
     "delete_cmd_prefix": "del ",
     "library": "var_list.py",
     "varRefreshCmd": "print(var_dic_list())"
    },
    "r": {
     "delete_cmd_postfix": ") ",
     "delete_cmd_prefix": "rm(",
     "library": "var_list.r",
     "varRefreshCmd": "cat(var_dic_list()) "
    }
   },
   "types_to_exclude": [
    "module",
    "function",
    "builtin_function_or_method",
    "instance",
    "_Feature"
   ],
   "window_display": false
  }
 },
 "nbformat": 4,
 "nbformat_minor": 2
}

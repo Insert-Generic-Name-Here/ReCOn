{
 "cells": [
  {
   "cell_type": "code",
   "execution_count": 1,
   "metadata": {},
   "outputs": [],
   "source": [
    "import subprocess"
   ]
  },
  {
   "cell_type": "code",
   "execution_count": 6,
   "metadata": {},
   "outputs": [],
   "source": [
    "getGPUProcesses = 'lshw -short | grep display'\n",
    "\n",
    "proc = subprocess.Popen(getGPUProcesses, shell=True, stdout=subprocess.PIPE)\n",
    "output = proc.stdout.read().decode('utf-8').split('\\n')"
   ]
  },
  {
   "cell_type": "code",
   "execution_count": 19,
   "metadata": {},
   "outputs": [
    {
     "data": {
      "text/plain": [
       "True"
      ]
     },
     "execution_count": 19,
     "metadata": {},
     "output_type": "execute_result"
    }
   ],
   "source": [
    "'nvidia' in output[0].split('\\\\s')[0].lower()"
   ]
  },
  {
   "cell_type": "code",
   "execution_count": null,
   "metadata": {},
   "outputs": [],
   "source": [
    "def InitiateMonitor(logData=False):\n",
    "    getNvidiaDisplay = 'nvidia-smi -L'\n",
    "    proc = subprocess.Popen(getNvidiaDisplay, shell=True, stdout=subprocess.PIPE)\n",
    "    output = proc.stdout.read().decode('utf-8').split('\\n')\n",
    "    \n",
    "    if output[0] != '':\n",
    "        '''Monitor Nvidia GPU'''\n",
    "    \n",
    "    ''' Monitor CPU'''\n",
    "    while (True):\n",
    "        '''\n",
    "            MONITOR DEVICES FFS WITH LOG_DATA\n",
    "        '''    "
   ]
  },
  {
   "cell_type": "code",
   "execution_count": 29,
   "metadata": {},
   "outputs": [
    {
     "data": {
      "text/plain": [
       "'GPU 0: GeForce GTX 1050 Ti (UUID: GPU-e540ce06-3c16-6416-4714-663d81ab805d)'"
      ]
     },
     "execution_count": 29,
     "metadata": {},
     "output_type": "execute_result"
    }
   ],
   "source": [
    "getGPUProcesses = 'nvidia-smi -L'\n",
    "\n",
    "proc = subprocess.Popen(getGPUProcesses, shell=True, stdout=subprocess.PIPE)\n",
    "output = proc.stdout.read().decode('utf-8').split('\\n')\n",
    "output[0]"
   ]
  }
 ],
 "metadata": {
  "kernelspec": {
   "display_name": "Python 3",
   "language": "python",
   "name": "python3"
  },
  "language_info": {
   "codemirror_mode": {
    "name": "ipython",
    "version": 3
   },
   "file_extension": ".py",
   "mimetype": "text/x-python",
   "name": "python",
   "nbconvert_exporter": "python",
   "pygments_lexer": "ipython3",
   "version": "3.6.4"
  },
  "varInspector": {
   "cols": {
    "lenName": 16,
    "lenType": 16,
    "lenVar": 40
   },
   "kernels_config": {
    "python": {
     "delete_cmd_postfix": "",
     "delete_cmd_prefix": "del ",
     "library": "var_list.py",
     "varRefreshCmd": "print(var_dic_list())"
    },
    "r": {
     "delete_cmd_postfix": ") ",
     "delete_cmd_prefix": "rm(",
     "library": "var_list.r",
     "varRefreshCmd": "cat(var_dic_list()) "
    }
   },
   "types_to_exclude": [
    "module",
    "function",
    "builtin_function_or_method",
    "instance",
    "_Feature"
   ],
   "window_display": false
  }
 },
 "nbformat": 4,
 "nbformat_minor": 2
}

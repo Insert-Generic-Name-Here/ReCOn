{
 "cells": [
  {
   "cell_type": "code",
   "execution_count": null,
   "metadata": {},
   "outputs": [],
   "source": [
    "from __future__ import print_function\n",
    "import getpass\n",
    "import os\n",
    "import sys\n",
    "from subprocess import Popen, check_output\n",
    "from sys import stderr\n",
    "from time import sleep\n",
    "import io\n",
    "import matplotlib.pyplot as plt\n",
    "import pandas as pd\n",
    "import tempfile\n",
    "import subprocess\n",
    "import psutil"
   ]
  },
  {
   "cell_type": "code",
   "execution_count": null,
   "metadata": {},
   "outputs": [],
   "source": [
    "def FetchCPUProcesses(mostImportant=10):\n",
    "    procs = []\n",
    "    for proc in psutil.process_iter():\n",
    "        if proc.pid == os.getpid(): continue \n",
    "        if getpass.getuser() in proc.username():\n",
    "            procs.append({'pid':            proc.pid,\n",
    "                          'cpu_percent':    proc.cpu_percent(),\n",
    "                     for proc in psutil.process_iter():\n",
    "    if proc.pid == os.getpid(): continue \n",
    "    if proc.status() != 'running': continue\n",
    "    if getpass.getuser() == proc.username():\n",
    "        procs.append({'pid':            proc.pid,\n",
    "                      'cpu_percent':    proc.cpu_percent(),\n",
    "                      'memory_percent': proc.memory_percent(),\n",
    "                      'name':           proc.name(),\n",
    "                      'exe':            proc.exe(),\n",
    "                      'status':         proc.status()\n",
    "                     })\n",
    "\n",
    "process_log = pd.DataFrame(procs)     'memory_percent': proc.memory_percent(),\n",
    "                          'name':           proc.name(),\n",
    "                          'exe':            proc.exe(),\n",
    "                          'status':         proc.status()\n",
    "                         })\n",
    "    process_log = pd.DataFrame(procs)\n",
    "    tmp = process_log.sort_values(['memory_percent'], ascending=False)[:10]\n",
    "    return tmp"
   ]
  },
  {
   "cell_type": "code",
   "execution_count": null,
   "metadata": {},
   "outputs": [],
   "source": [
    "def GetProcessAttributes(pids):\n",
    "    processAttributes = []\n",
    "    for pid in pids:\n",
    "        proc = psutil.Process(pid)\n",
    "        processAttributes.append({'pid':     pid,\n",
    "                                  'name':    proc.name(),                \n",
    "                                  'cmdline': proc.cmdline(),\n",
    "                                  'status':  proc.status()})\n",
    "    processAttributes = pd.DataFrame(processAttributes)\n",
    "    return processAttributes"
   ]
  },
  {
   "cell_type": "code",
   "execution_count": null,
   "metadata": {},
   "outputs": [],
   "source": [
    "def MonitorNvidiaGPU():\n",
    "    'Function that monitors Running Processes on Nvidia GPU'\n",
    "    '''\n",
    "        Returns a DataFrame (pid, process_name, cmdline, used_gpu_memory, utilization)\n",
    "    '''\n",
    "    getGPUProcesses = 'nvidia-smi pmon -c 1 -s mu'\n",
    "    \n",
    "    proc = subprocess.Popen(getGPUProcesses, shell=True, stdout=subprocess.PIPE)\n",
    "    output = proc.stdout.read().decode('utf-8').split('\\n')\n",
    "    \n",
    "    # Remove the line describing the units of each feature\n",
    "    del output[1]\n",
    "    # convert to csv format...\n",
    "    output[0] = output[0].replace('# ', '')\n",
    "    output = [line.strip() for line in output]\n",
    "    output = [','.join(line.split()) for line in output]\n",
    "    # ...and drop the command feature (will be added later)...\n",
    "    output = [','.join(line.split(',')[:8]) for line in output]\n",
    "    # ...and convert to DataFrame\n",
    "    procsGPU = pd.read_csv(io.StringIO('\\n'.join(output)), header=0)\n",
    "    procsGPUFeats = GetProcessAttributes(procsGPU.pid.values)\n",
    "    \n",
    "    return procsGPU.merge(procsGPUFeats, on='pid', how='inner')"
   ]
  },
  {
   "cell_type": "code",
   "execution_count": null,
   "metadata": {},
   "outputs": [],
   "source": [
    "def full_outer_join(df_x, df_y, on=None, left_on=None, right_on=None):\n",
    "    df = pd.merge(df_x, df_y, on='pid', how='outer', suffixes=('', '_y'))\n",
    "    # list comprehension of the cols that end with '_y'\n",
    "    to_drop = [x for x in df if x.endswith('_y')]\n",
    "    df.drop(to_drop, axis=1, inplace=True)\n",
    "    return df"
   ]
  },
  {
   "cell_type": "code",
   "execution_count": null,
   "metadata": {},
   "outputs": [],
   "source": [
    "%timeit MonitorNvidiaGPU()"
   ]
  },
  {
   "cell_type": "markdown",
   "metadata": {},
   "source": [
    "### Notes:\n",
    "* ### Decide if we use the default Nvidia thread or our own (So Far: our own)"
   ]
  },
  {
   "cell_type": "code",
   "execution_count": null,
   "metadata": {},
   "outputs": [],
   "source": [
    "#!/usr/bin/python\n",
    "from subprocess import Popen, PIPE, STDOUT\n",
    "import pty\n",
    "import os\n",
    "\n",
    "cmd = 'nvidia-smi pmon -c 1 -s mu'\n",
    "\n",
    "proc = subprocess.Popen(cmd, shell=True, stdout=subprocess.PIPE)\n",
    "output = proc.stdout.read().decode('utf-8').split('\\n')\n",
    "output"
   ]
  },
  {
   "cell_type": "code",
   "execution_count": null,
   "metadata": {},
   "outputs": [],
   "source": [
    "procs = []\n",
    "for proc in psutil.process_iter():\n",
    "    if proc.pid == os.getpid(): continue \n",
    "    \n",
    "    try:\n",
    "        if getpass.getuser() == proc.username():\n",
    "            procs.append({'pid':            proc.pid,\n",
    "                          'cpu_percent':    proc.cpu_percent(),\n",
    "                          'memory_percent': proc.memory_percent(),\n",
    "                          'name':           proc.name(),\n",
    "                          'exe':            proc.exe(),\n",
    "                          'user':           proc.username(),\n",
    "                          'status':         proc.status()\n",
    "                         })\n",
    "    except psutil.AccessDenied:\n",
    "        continue\n",
    "    \n",
    "process_log = pd.DataFrame(procs)\n",
    "process_log"
   ]
  }
 ],
 "metadata": {
  "kernelspec": {
   "display_name": "Python 3",
   "language": "python",
   "name": "python3"
  },
  "language_info": {
   "codemirror_mode": {
    "name": "ipython",
    "version": 3
   },
   "file_extension": ".py",
   "mimetype": "text/x-python",
   "name": "python",
   "nbconvert_exporter": "python",
   "pygments_lexer": "ipython3",
   "version": "3.6.4"
  },
  "varInspector": {
   "cols": {
    "lenName": 16,
    "lenType": 16,
    "lenVar": 40
   },
   "kernels_config": {
    "python": {
     "delete_cmd_postfix": "",
     "delete_cmd_prefix": "del ",
     "library": "var_list.py",
     "varRefreshCmd": "print(var_dic_list())"
    },
    "r": {
     "delete_cmd_postfix": ") ",
     "delete_cmd_prefix": "rm(",
     "library": "var_list.r",
     "varRefreshCmd": "cat(var_dic_list()) "
    }
   },
   "types_to_exclude": [
    "module",
    "function",
    "builtin_function_or_method",
    "instance",
    "_Feature"
   ],
   "window_display": false
  }
 },
 "nbformat": 4,
 "nbformat_minor": 2
}

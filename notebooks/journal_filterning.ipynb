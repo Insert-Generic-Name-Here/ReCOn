{
 "cells": [
  {
   "cell_type": "code",
   "execution_count": 84,
   "metadata": {},
   "outputs": [],
   "source": [
    "!python journal_testing.py"
   ]
  },
  {
   "cell_type": "code",
   "execution_count": 85,
   "metadata": {},
   "outputs": [],
   "source": [
    "def relative_path(path):\n",
    "    return ''.join(path.split('/foo', 1)[1:]).strip('/')"
   ]
  },
  {
   "cell_type": "code",
   "execution_count": 193,
   "metadata": {},
   "outputs": [],
   "source": [
    "def filter_journals(server_journal, client_journal):\n",
    "    df = pd.read_csv(server_journal, index_col=[0]) # , index_col=[0]\n",
    "    df1 = pd.read_csv(client_journal, index_col=[0])\n",
    "\n",
    "    fn = pd.concat([df,df1],ignore_index=True)\n",
    "\n",
    "    fn['rel'] = fn['src'].apply(lambda path: ''.join(path.split('/foo', 1)[1:]).strip('/'))\n",
    "    exp = fn.loc[fn.groupby(['rel']).timestamp.idxmax()]\n",
    "\n",
    "    # SAVE IF NEEDED\n",
    "\n",
    "    ## exp.to_csv('res.csv')\n",
    "    return exp.drop(['rel'], axis=1)"
   ]
  },
  {
   "cell_type": "code",
   "execution_count": 194,
   "metadata": {},
   "outputs": [],
   "source": [
    "tst = filter_journals('tst0.csv', 'tst1.csv')"
   ]
  },
  {
   "cell_type": "code",
   "execution_count": 195,
   "metadata": {},
   "outputs": [
    {
     "data": {
      "text/html": [
       "<div>\n",
       "<style scoped>\n",
       "    .dataframe tbody tr th:only-of-type {\n",
       "        vertical-align: middle;\n",
       "    }\n",
       "\n",
       "    .dataframe tbody tr th {\n",
       "        vertical-align: top;\n",
       "    }\n",
       "\n",
       "    .dataframe thead th {\n",
       "        text-align: right;\n",
       "    }\n",
       "</style>\n",
       "<table border=\"1\" class=\"dataframe\">\n",
       "  <thead>\n",
       "    <tr style=\"text-align: right;\">\n",
       "      <th></th>\n",
       "      <th>timestamp</th>\n",
       "      <th>event</th>\n",
       "      <th>src</th>\n",
       "      <th>dest</th>\n",
       "    </tr>\n",
       "  </thead>\n",
       "  <tbody>\n",
       "    <tr>\n",
       "      <th>4</th>\n",
       "      <td>1537454051</td>\n",
       "      <td>moved</td>\n",
       "      <td>/foo/bar0</td>\n",
       "      <td>/foo/bar9</td>\n",
       "    </tr>\n",
       "    <tr>\n",
       "      <th>52</th>\n",
       "      <td>1537454063</td>\n",
       "      <td>moved</td>\n",
       "      <td>/foo/bar1</td>\n",
       "      <td>/foo/bar8</td>\n",
       "    </tr>\n",
       "    <tr>\n",
       "      <th>21</th>\n",
       "      <td>1537454078</td>\n",
       "      <td>moved</td>\n",
       "      <td>/foo/bar2</td>\n",
       "      <td>/foo/bar8</td>\n",
       "    </tr>\n",
       "    <tr>\n",
       "      <th>31</th>\n",
       "      <td>1537454067</td>\n",
       "      <td>deleted</td>\n",
       "      <td>/foo/bar3</td>\n",
       "      <td>NaN</td>\n",
       "    </tr>\n",
       "    <tr>\n",
       "      <th>74</th>\n",
       "      <td>1537454080</td>\n",
       "      <td>modified</td>\n",
       "      <td>/foo/bar4</td>\n",
       "      <td>NaN</td>\n",
       "    </tr>\n",
       "    <tr>\n",
       "      <th>38</th>\n",
       "      <td>1537454113</td>\n",
       "      <td>deleted</td>\n",
       "      <td>/foo/bar7</td>\n",
       "      <td>NaN</td>\n",
       "    </tr>\n",
       "    <tr>\n",
       "      <th>56</th>\n",
       "      <td>1537454098</td>\n",
       "      <td>deleted</td>\n",
       "      <td>/foo/bar8</td>\n",
       "      <td>NaN</td>\n",
       "    </tr>\n",
       "    <tr>\n",
       "      <th>11</th>\n",
       "      <td>1537454072</td>\n",
       "      <td>deleted</td>\n",
       "      <td>/foo/bar9</td>\n",
       "      <td>NaN</td>\n",
       "    </tr>\n",
       "  </tbody>\n",
       "</table>\n",
       "</div>"
      ],
      "text/plain": [
       "     timestamp     event        src       dest\n",
       "4   1537454051     moved  /foo/bar0  /foo/bar9\n",
       "52  1537454063     moved  /foo/bar1  /foo/bar8\n",
       "21  1537454078     moved  /foo/bar2  /foo/bar8\n",
       "31  1537454067   deleted  /foo/bar3        NaN\n",
       "74  1537454080  modified  /foo/bar4        NaN\n",
       "38  1537454113   deleted  /foo/bar7        NaN\n",
       "56  1537454098   deleted  /foo/bar8        NaN\n",
       "11  1537454072   deleted  /foo/bar9        NaN"
      ]
     },
     "execution_count": 195,
     "metadata": {},
     "output_type": "execute_result"
    }
   ],
   "source": [
    "tst"
   ]
  },
  {
   "cell_type": "code",
   "execution_count": 198,
   "metadata": {},
   "outputs": [],
   "source": [
    "def genrtr():\n",
    "    journal = tst\n",
    "    for row in journal.iterrows():\n",
    "        yield row"
   ]
  },
  {
   "cell_type": "code",
   "execution_count": 213,
   "metadata": {},
   "outputs": [
    {
     "name": "stdout",
     "output_type": "stream",
     "text": [
      "timestamp    1537454051\n",
      "event             moved\n",
      "src           /foo/bar0\n",
      "dest          /foo/bar9\n",
      "Name: 4, dtype: object\n"
     ]
    }
   ],
   "source": [
    "for row in tst.iterrows():\n",
    "    print(row[1])\n",
    "    break"
   ]
  },
  {
   "cell_type": "code",
   "execution_count": null,
   "metadata": {},
   "outputs": [],
   "source": []
  },
  {
   "cell_type": "code",
   "execution_count": null,
   "metadata": {
    "scrolled": true
   },
   "outputs": [],
   "source": []
  },
  {
   "cell_type": "code",
   "execution_count": 110,
   "metadata": {},
   "outputs": [],
   "source": [
    "tst.iloc[0:0]"
   ]
  },
  {
   "cell_type": "code",
   "execution_count": 58,
   "metadata": {},
   "outputs": [
    {
     "data": {
      "text/plain": [
       "'/home/andretri7/.recon'"
      ]
     },
     "execution_count": 58,
     "metadata": {},
     "output_type": "execute_result"
    }
   ],
   "source": [
    "import os\n",
    "os.path.join(os.path.expanduser('~'), '.recon')"
   ]
  },
  {
   "cell_type": "code",
   "execution_count": 59,
   "metadata": {},
   "outputs": [],
   "source": [
    "import paramiko\n",
    "import configparser"
   ]
  },
  {
   "cell_type": "code",
   "execution_count": 78,
   "metadata": {},
   "outputs": [],
   "source": [
    "def get_server_object(server_name, servers_ini):\n",
    "# \tprint (f'\\tConnecting with Host: {server_name}')\n",
    "\thost = servers_ini[server_name]['host']\n",
    "\tuname = servers_ini[server_name]['uname']\n",
    "\tport = servers_ini[server_name]['port']\n",
    "\tpkey = servers_ini[server_name]['pkey']\n",
    "\n",
    "\tssh = paramiko.SSHClient()\n",
    "\tssh.set_missing_host_key_policy(paramiko.AutoAddPolicy())\n",
    "\tssh_pkey = paramiko.RSAKey.from_private_key_file(pkey)\n",
    "\n",
    "\ttry:\n",
    "\t\tssh.connect(host, port=port, pkey=ssh_pkey, username=uname)\n",
    "# \t\tprint (f'[+] Success for host: {server_name}')\n",
    "\t\t_, stdout, _ = ssh.exec_command('echo $HOME')\n",
    "\t\t\n",
    "\t\tcurr_server = {}\n",
    "\t\tcurr_server = {'connection':ssh, 'host':host, 'uname':uname, 'port':port, \n",
    "\t\t\t\t\t   'pkey':pkey, 'recon_path': os.path.join(stdout.readlines()[0].strip('\\n'), '.recon')}  \n",
    "\t\treturn curr_server\n",
    "\texcept:\n",
    "# \t\tprint(f\"[-] Host {server_name} is Unavailable.\")\n",
    "\t\treturn 0\t\t"
   ]
  },
  {
   "cell_type": "code",
   "execution_count": 70,
   "metadata": {},
   "outputs": [
    {
     "data": {
      "text/plain": [
       "['servers.ini']"
      ]
     },
     "execution_count": 70,
     "metadata": {},
     "output_type": "execute_result"
    }
   ],
   "source": [
    "servers_ini = configparser.ConfigParser()\n",
    "servers_ini.read('servers.ini')"
   ]
  },
  {
   "cell_type": "code",
   "execution_count": 73,
   "metadata": {},
   "outputs": [],
   "source": [
    "def test():\n",
    "    srv = get_server_object('VIRTUALBOX', servers_ini)"
   ]
  },
  {
   "cell_type": "code",
   "execution_count": 80,
   "metadata": {},
   "outputs": [
    {
     "name": "stdout",
     "output_type": "stream",
     "text": [
      "355 ms ± 6.15 ms per loop (mean ± std. dev. of 7 runs, 1 loop each)\n"
     ]
    }
   ],
   "source": [
    "%timeit test()"
   ]
  },
  {
   "cell_type": "code",
   "execution_count": 138,
   "metadata": {},
   "outputs": [],
   "source": [
    "sftp_client = srv['connection'].open_sftp()\n",
    "with sftp_client.open('/home/andretri/success.csv', 'r') as f:\n",
    "    df = pd.read_csv(f)"
   ]
  },
  {
   "cell_type": "code",
   "execution_count": 139,
   "metadata": {},
   "outputs": [
    {
     "data": {
      "text/html": [
       "<div>\n",
       "<style scoped>\n",
       "    .dataframe tbody tr th:only-of-type {\n",
       "        vertical-align: middle;\n",
       "    }\n",
       "\n",
       "    .dataframe tbody tr th {\n",
       "        vertical-align: top;\n",
       "    }\n",
       "\n",
       "    .dataframe thead th {\n",
       "        text-align: right;\n",
       "    }\n",
       "</style>\n",
       "<table border=\"1\" class=\"dataframe\">\n",
       "  <thead>\n",
       "    <tr style=\"text-align: right;\">\n",
       "      <th></th>\n",
       "      <th>a</th>\n",
       "      <th>b</th>\n",
       "      <th>c</th>\n",
       "    </tr>\n",
       "  </thead>\n",
       "  <tbody>\n",
       "    <tr>\n",
       "      <th>0</th>\n",
       "      <td>foo</td>\n",
       "      <td>bar</td>\n",
       "      <td>baz</td>\n",
       "    </tr>\n",
       "  </tbody>\n",
       "</table>\n",
       "</div>"
      ],
      "text/plain": [
       "     a    b    c\n",
       "0  foo  bar  baz"
      ]
     },
     "execution_count": 139,
     "metadata": {},
     "output_type": "execute_result"
    }
   ],
   "source": [
    "df"
   ]
  },
  {
   "cell_type": "code",
   "execution_count": 191,
   "metadata": {},
   "outputs": [],
   "source": [
    "with sftp_client.open('/home/andretri/success.csv', 'r') as f:  \n",
    "    remote_journal = pd.read_csv(f, index_col=[0])"
   ]
  },
  {
   "cell_type": "code",
   "execution_count": 192,
   "metadata": {},
   "outputs": [
    {
     "data": {
      "text/html": [
       "<div>\n",
       "<style scoped>\n",
       "    .dataframe tbody tr th:only-of-type {\n",
       "        vertical-align: middle;\n",
       "    }\n",
       "\n",
       "    .dataframe tbody tr th {\n",
       "        vertical-align: top;\n",
       "    }\n",
       "\n",
       "    .dataframe thead th {\n",
       "        text-align: right;\n",
       "    }\n",
       "</style>\n",
       "<table border=\"1\" class=\"dataframe\">\n",
       "  <thead>\n",
       "    <tr style=\"text-align: right;\">\n",
       "      <th></th>\n",
       "      <th>b</th>\n",
       "    </tr>\n",
       "    <tr>\n",
       "      <th>a</th>\n",
       "      <th></th>\n",
       "    </tr>\n",
       "  </thead>\n",
       "  <tbody>\n",
       "  </tbody>\n",
       "</table>\n",
       "</div>"
      ],
      "text/plain": [
       "Empty DataFrame\n",
       "Columns: [b]\n",
       "Index: []"
      ]
     },
     "execution_count": 192,
     "metadata": {},
     "output_type": "execute_result"
    }
   ],
   "source": [
    "remote_journal"
   ]
  },
  {
   "cell_type": "code",
   "execution_count": 190,
   "metadata": {},
   "outputs": [],
   "source": [
    "with sftp_client.open('/home/andretri/success.csv', 'w+') as f:\n",
    "    remote_journal.iloc[0:0].to_csv(f)"
   ]
  }
 ],
 "metadata": {
  "kernelspec": {
   "display_name": "Python 3",
   "language": "python",
   "name": "python3"
  },
  "language_info": {
   "codemirror_mode": {
    "name": "ipython",
    "version": 3
   },
   "file_extension": ".py",
   "mimetype": "text/x-python",
   "name": "python",
   "nbconvert_exporter": "python",
   "pygments_lexer": "ipython3",
   "version": "3.6.6"
  },
  "varInspector": {
   "cols": {
    "lenName": 16,
    "lenType": 16,
    "lenVar": 40
   },
   "kernels_config": {
    "python": {
     "delete_cmd_postfix": "",
     "delete_cmd_prefix": "del ",
     "library": "var_list.py",
     "varRefreshCmd": "print(var_dic_list())"
    },
    "r": {
     "delete_cmd_postfix": ") ",
     "delete_cmd_prefix": "rm(",
     "library": "var_list.r",
     "varRefreshCmd": "cat(var_dic_list()) "
    }
   },
   "types_to_exclude": [
    "module",
    "function",
    "builtin_function_or_method",
    "instance",
    "_Feature"
   ],
   "window_display": false
  }
 },
 "nbformat": 4,
 "nbformat_minor": 2
}

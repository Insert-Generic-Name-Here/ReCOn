{
 "cells": [
  {
   "cell_type": "code",
   "execution_count": 2,
   "metadata": {
    "ExecuteTime": {
     "end_time": "2018-09-18T11:09:12.882020Z",
     "start_time": "2018-09-18T11:09:12.876520Z"
    }
   },
   "outputs": [],
   "source": [
    "import os\n",
    "import stat\n",
    "import hashlib\n",
    "from itertools import filterfalse"
   ]
  },
  {
   "cell_type": "code",
   "execution_count": 3,
   "metadata": {
    "ExecuteTime": {
     "end_time": "2018-09-18T11:09:14.990062Z",
     "start_time": "2018-09-18T11:09:14.982508Z"
    }
   },
   "outputs": [],
   "source": [
    "_cache = {}\n",
    "BUFSIZE = 8*1024"
   ]
  },
  {
   "cell_type": "code",
   "execution_count": 4,
   "metadata": {},
   "outputs": [],
   "source": [
    "def _sig(st):\n",
    "    return (stat.S_IFMT(st.st_mode),\n",
    "            st.st_size,\n",
    "            st.st_mtime)\n",
    "\n",
    "def _do_cmp(f1, f2):\n",
    "    bufsize = BUFSIZE\n",
    "    with open(f1, 'rb') as fp1, open(f2, 'rb') as fp2:\n",
    "        while True:\n",
    "            b1 = fp1.read(bufsize)\n",
    "            b2 = fp2.read(bufsize)\n",
    "            if b1 != b2:\n",
    "                return False\n",
    "            if not b1:\n",
    "                return True\n",
    "\n",
    "def clear_cache():\n",
    "    \"\"\"Clear the filecmp cache.\"\"\"\n",
    "    _cache.clear()"
   ]
  },
  {
   "cell_type": "code",
   "execution_count": 5,
   "metadata": {
    "ExecuteTime": {
     "end_time": "2018-09-18T11:10:04.084565Z",
     "start_time": "2018-09-18T11:10:04.071611Z"
    }
   },
   "outputs": [],
   "source": [
    "def cmp(local_file, remote_file, shallow=True):\n",
    "    \"\"\"Compare two files.\n",
    "    Arguments:\n",
    "    local_file -- First file name\n",
    "    remote_file -- Second file name\n",
    "    sftp_client -- The Paramiko Object of the SFTP Connection to the Server\n",
    "    shallow -- Just check stat signature (do not read the files).\n",
    "               defaults to True.\n",
    "    Return value:\n",
    "    True if the files are the same, False otherwise.\n",
    "    This function uses a cache for past comparisons and the results,\n",
    "    with cache entries invalidated if their stat information\n",
    "    changes.  The cache may be cleared by calling clear_cache().\n",
    "    \"\"\"\n",
    "\n",
    "    s1 = _sig(os.stat(local_file))\n",
    "    s2 = _sig(os.stat(remote_file))\n",
    "    if s1[0] != stat.S_IFREG or s2[0] != stat.S_IFREG:\n",
    "        return False\n",
    "    if shallow and s1 == s2:\n",
    "        return True\n",
    "    if s1[1] != s2[1]:\n",
    "        return False\n",
    "\n",
    "    outcome = _cache.get((local_file, remote_file, s1, s2))\n",
    "    if outcome is None:\n",
    "        outcome = _do_cmp(local_file, remote_file)\n",
    "        if len(_cache) > 100:      # limit the maximum size of the cache\n",
    "            clear_cache()\n",
    "        _cache[local_file, remote_file, s1, s2] = outcome\n",
    "    return outcome"
   ]
  },
  {
   "cell_type": "code",
   "execution_count": 19,
   "metadata": {},
   "outputs": [],
   "source": [
    "def cmphash(local_file, remote_file):\n",
    "    '''\n",
    "    Compare two Files using the MD5 Hash Algorithm\n",
    "    \n",
    "    Arguments:\n",
    "    local_file -- First file name\n",
    "    remote_file -- Second file name\n",
    "    sftp_client -- The Paramiko Object of the SFTP Connection to the Server\n",
    "    \n",
    "    Return value:\n",
    "    True if the files are the same, False otherwise.\n",
    "    '''\n",
    "    bufsize = BUFSIZE\n",
    "    \n",
    "    local_file_hash = hashlib.md5()\n",
    "    remote_file_hash = hashlib.md5()\n",
    "    \n",
    "    # we use the read passing the size of the block to avoid heavy ram usage\n",
    "    with open(local_file, 'rb') as fp1:\n",
    "        while True:\n",
    "            b1 = fp1.read(bufsize)\n",
    "            # partially calculate the hash                \n",
    "            local_file_hash.update(b1)\n",
    "            if not b1: break\n",
    "    with open(remote_file, 'rb') as fp2:\n",
    "        while True:\n",
    "            b2 = fp2.read(bufsize)\n",
    "            # partially calculate the hash\n",
    "            remote_file_hash.update(b2)\n",
    "            if not b2: break\n",
    "                \n",
    "    return (local_file_hash.digest() == remote_file_hash.digest())"
   ]
  },
  {
   "cell_type": "code",
   "execution_count": 21,
   "metadata": {
    "ExecuteTime": {
     "end_time": "2018-09-18T11:11:26.235639Z",
     "start_time": "2018-09-18T11:11:26.225335Z"
    },
    "scrolled": false
   },
   "outputs": [
    {
     "name": "stdout",
     "output_type": "stream",
     "text": [
      "65.2 µs ± 696 ns per loop (mean ± std. dev. of 7 runs, 100000 loops each)\n"
     ]
    }
   ],
   "source": [
    "%timeit -n 100000 cmphash('SSH_Connection.ipynb', 'SSH_Connection.ipynb')"
   ]
  },
  {
   "cell_type": "code",
   "execution_count": 22,
   "metadata": {
    "ExecuteTime": {
     "end_time": "2018-09-18T11:11:10.324419Z",
     "start_time": "2018-09-18T11:11:10.318553Z"
    }
   },
   "outputs": [
    {
     "name": "stdout",
     "output_type": "stream",
     "text": [
      "3.33 µs ± 120 ns per loop (mean ± std. dev. of 7 runs, 100000 loops each)\n"
     ]
    }
   ],
   "source": [
    "%timeit -n 100000 cmp('SSH_Connection.ipynb', 'SSH_Connection.ipynb', shallow=True); clear_cache()  "
   ]
  },
  {
   "cell_type": "code",
   "execution_count": 23,
   "metadata": {
    "ExecuteTime": {
     "end_time": "2018-09-18T11:11:10.324419Z",
     "start_time": "2018-09-18T11:11:10.318553Z"
    }
   },
   "outputs": [
    {
     "name": "stdout",
     "output_type": "stream",
     "text": [
      "25.6 µs ± 229 ns per loop (mean ± std. dev. of 7 runs, 100000 loops each)\n"
     ]
    }
   ],
   "source": [
    "%timeit -n 100000 cmp('SSH_Connection.ipynb', 'SSH_Connection.ipynb', shallow=False); clear_cache()  "
   ]
  }
 ],
 "metadata": {
  "kernelspec": {
   "display_name": "Python 3",
   "language": "python",
   "name": "python3"
  },
  "language_info": {
   "codemirror_mode": {
    "name": "ipython",
    "version": 3
   },
   "file_extension": ".py",
   "mimetype": "text/x-python",
   "name": "python",
   "nbconvert_exporter": "python",
   "pygments_lexer": "ipython3",
   "version": "3.6.6"
  },
  "varInspector": {
   "cols": {
    "lenName": 16,
    "lenType": 16,
    "lenVar": 40
   },
   "kernels_config": {
    "python": {
     "delete_cmd_postfix": "",
     "delete_cmd_prefix": "del ",
     "library": "var_list.py",
     "varRefreshCmd": "print(var_dic_list())"
    },
    "r": {
     "delete_cmd_postfix": ") ",
     "delete_cmd_prefix": "rm(",
     "library": "var_list.r",
     "varRefreshCmd": "cat(var_dic_list()) "
    }
   },
   "types_to_exclude": [
    "module",
    "function",
    "builtin_function_or_method",
    "instance",
    "_Feature"
   ],
   "window_display": false
  }
 },
 "nbformat": 4,
 "nbformat_minor": 2
}
